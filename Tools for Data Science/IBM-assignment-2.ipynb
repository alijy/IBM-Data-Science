{
 "cells": [
  {
   "cell_type": "markdown",
   "id": "5777fd9f",
   "metadata": {},
   "source": [
    "# My Jupyter Notebook on IBM Watson Studio"
   ]
  },
  {
   "cell_type": "markdown",
   "id": "97d7a033",
   "metadata": {},
   "source": [
    "__Ali Karami__\n",
    "\n",
    "I'm a software developer and would like to become a Lead Data Scientist or Engineer."
   ]
  },
  {
   "cell_type": "markdown",
   "id": "4f76b1a3",
   "metadata": {},
   "source": [
    "_At university, I enjoyed a course on data mining. After that, I continued with some reading and exploring on my own to find out more. I eventuaally ended up becoming interested in Data Science and Engineering_"
   ]
  },
  {
   "cell_type": "markdown",
   "id": "4254eb6e",
   "metadata": {},
   "source": [
    "### This code will print the first 20 numbers in fibonacci sequece"
   ]
  },
  {
   "cell_type": "code",
   "execution_count": 7,
   "id": "6fbb80e8",
   "metadata": {},
   "outputs": [
    {
     "name": "stdout",
     "output_type": "stream",
     "text": [
      "[0, 1, 1, 2, 3, 5, 8, 13, 21, 34, 55, 89, 144, 233, 377, 610, 987, 1597, 2584, 4181]\n"
     ]
    }
   ],
   "source": [
    "fibonacci = [0, 1]\n",
    "for i in range(18):\n",
    "    fibonacci.append(fibonacci[i] + fibonacci[i+1])\n",
    "print(fibonacci)"
   ]
  },
  {
   "cell_type": "markdown",
   "id": "e4158b9a",
   "metadata": {},
   "source": [
    "### Markdown examples\n",
    "\n",
    "An example of a bullet list is:\n",
    "- bullet 1\n",
    "- bullet 2\n",
    "\n",
    "-----\n",
    "\n",
    "An example of a numbered list is:\n",
    "1. number 1\n",
    "2. number 2\n",
    "\n",
    "-----\n",
    "\n",
    "[This is an example of a hyperlink](https://www.google.com)\n",
    "\n",
    "-----\n",
    "\n",
    "> This is an example of a blocked quote.\n",
    "\n",
    "-----\n",
    "\n",
    "~~This is an example of strikethrough.~~"
   ]
  }
 ],
 "metadata": {
  "kernelspec": {
   "display_name": "Python 3 (ipykernel)",
   "language": "python",
   "name": "python3"
  },
  "language_info": {
   "codemirror_mode": {
    "name": "ipython",
    "version": 3
   },
   "file_extension": ".py",
   "mimetype": "text/x-python",
   "name": "python",
   "nbconvert_exporter": "python",
   "pygments_lexer": "ipython3",
   "version": "3.8.12"
  }
 },
 "nbformat": 4,
 "nbformat_minor": 5
}
